{
  "nbformat": 4,
  "nbformat_minor": 0,
  "metadata": {
    "colab": {
      "name": "ChatBot_With_Seq2Seq.ipynb",
      "provenance": [],
      "collapsed_sections": [],
      "toc_visible": true,
      "include_colab_link": true
    },
    "kernelspec": {
      "name": "python3",
      "display_name": "Python 3"
    }
  },
  "cells": [
    {
      "cell_type": "markdown",
      "metadata": {
        "id": "view-in-github",
        "colab_type": "text"
      },
      "source": [
        "<a href=\"https://colab.research.google.com/github/zhpinkman/chatbot-using-seq2seq/blob/master/ChatBot_With_Seq2Seq.ipynb\" target=\"_parent\"><img src=\"https://colab.research.google.com/assets/colab-badge.svg\" alt=\"Open In Colab\"/></a>"
      ]
    },
    {
      "cell_type": "code",
      "metadata": {
        "id": "UgZHR8TO0lFF",
        "colab_type": "code",
        "colab": {}
      },
      "source": [
        "import numpy as np\n",
        "import tensorflow as tf\n",
        "import pickle\n",
        "from tensorflow.keras import layers , activations , models , preprocessing\n",
        "from tensorflow.keras import preprocessing , utils\n",
        "import os\n",
        "import yaml\n",
        "from gensim.models import Word2Vec\n",
        "import re"
      ],
      "execution_count": 67,
      "outputs": []
    },
    {
      "cell_type": "code",
      "metadata": {
        "id": "6i6u8US30ufe",
        "colab_type": "code",
        "colab": {
          "base_uri": "https://localhost:8080/",
          "height": 419
        },
        "outputId": "52a7b465-72cd-4082-cfb6-c401b6d3b197"
      },
      "source": [
        "!wget https://github.com/shubham0204/Dataset_Archives/blob/master/chatbot_nlp.zip?raw=true -O chatbot_nlp.zip\n",
        "!unzip chatbot_nlp.zip"
      ],
      "execution_count": 68,
      "outputs": [
        {
          "output_type": "stream",
          "text": [
            "--2020-09-13 15:31:17--  https://github.com/shubham0204/Dataset_Archives/blob/master/chatbot_nlp.zip?raw=true\n",
            "Resolving github.com (github.com)... 140.82.112.3\n",
            "Connecting to github.com (github.com)|140.82.112.3|:443... connected.\n",
            "HTTP request sent, awaiting response... 302 Found\n",
            "Location: https://github.com/shubham0204/Dataset_Archives/raw/master/chatbot_nlp.zip [following]\n",
            "--2020-09-13 15:31:18--  https://github.com/shubham0204/Dataset_Archives/raw/master/chatbot_nlp.zip\n",
            "Reusing existing connection to github.com:443.\n",
            "HTTP request sent, awaiting response... 302 Found\n",
            "Location: https://raw.githubusercontent.com/shubham0204/Dataset_Archives/master/chatbot_nlp.zip [following]\n",
            "--2020-09-13 15:31:18--  https://raw.githubusercontent.com/shubham0204/Dataset_Archives/master/chatbot_nlp.zip\n",
            "Resolving raw.githubusercontent.com (raw.githubusercontent.com)... 151.101.0.133, 151.101.64.133, 151.101.128.133, ...\n",
            "Connecting to raw.githubusercontent.com (raw.githubusercontent.com)|151.101.0.133|:443... connected.\n",
            "HTTP request sent, awaiting response... 200 OK\n",
            "Length: 24292 (24K) [application/zip]\n",
            "Saving to: ‘chatbot_nlp.zip’\n",
            "\n",
            "chatbot_nlp.zip     100%[===================>]  23.72K  --.-KB/s    in 0.01s   \n",
            "\n",
            "2020-09-13 15:31:19 (1.84 MB/s) - ‘chatbot_nlp.zip’ saved [24292/24292]\n",
            "\n",
            "Archive:  chatbot_nlp.zip\n",
            "replace chatbot_nlp/data/ai.yml? [y]es, [n]o, [A]ll, [N]one, [r]ename: N\n"
          ],
          "name": "stdout"
        }
      ]
    },
    {
      "cell_type": "code",
      "metadata": {
        "id": "RzTBhga6MiV7",
        "colab_type": "code",
        "colab": {}
      },
      "source": [
        "dir_path = 'chatbot_nlp/data'\n",
        "files_list = os.listdir(dir_path + os.sep)\n",
        "\n",
        "questions = list()\n",
        "answers = list()\n",
        "\n",
        "for filepath in files_list:\n",
        "    stream = open( dir_path + os.sep + filepath , 'rb')\n",
        "    docs = yaml.safe_load(stream)\n",
        "    conversations = docs['conversations']\n",
        "    for con in conversations:\n",
        "        if len( con ) > 2 :\n",
        "            questions.append(con[0])\n",
        "            replies = con[ 1 : ]\n",
        "            ans = ''\n",
        "            for rep in replies:\n",
        "                ans += ' ' + rep\n",
        "            answers.append( ans )\n",
        "        elif len( con )> 1:\n",
        "            questions.append(con[0])\n",
        "            answers.append(con[1])\n",
        "\n",
        "answers_with_tags = list()\n",
        "for i in range( len( answers ) ):\n",
        "    if type( answers[i] ) == str:\n",
        "        answers_with_tags.append( answers[i] )\n",
        "    else:\n",
        "        questions.pop( i )\n",
        "\n",
        "answers = list()\n",
        "for i in range( len( answers_with_tags ) ) :\n",
        "    answers.append( '<START> ' + answers_with_tags[i] + ' <END>' )"
      ],
      "execution_count": 69,
      "outputs": []
    },
    {
      "cell_type": "code",
      "metadata": {
        "id": "ymb5dqxNls54",
        "colab_type": "code",
        "colab": {
          "base_uri": "https://localhost:8080/",
          "height": 191
        },
        "outputId": "deebbf55-83b8-43ee-a228-2f6aaf2a963d"
      },
      "source": [
        "questions[:5], answers[:5]"
      ],
      "execution_count": 70,
      "outputs": [
        {
          "output_type": "execute_result",
          "data": {
            "text/plain": [
              "(['you sound like hal',\n",
              "  'you sound like yoda',\n",
              "  'have you seen blade runner',\n",
              "  'xfind spiderman',\n",
              "  'when did teknolust'],\n",
              " [\"<START> to me that's a great compliment. <END>\",\n",
              "  '<START> my grammatical patterns are sufficient for me to understand you. <END>',\n",
              "  '<START> sure i have seen <END>',\n",
              "  '<START> what is spiderman. <END>',\n",
              "  '<START> teknolust was released in 2002. <END>'])"
            ]
          },
          "metadata": {
            "tags": []
          },
          "execution_count": 70
        }
      ]
    },
    {
      "cell_type": "code",
      "metadata": {
        "id": "0toP7ua7mGxS",
        "colab_type": "code",
        "colab": {
          "base_uri": "https://localhost:8080/",
          "height": 34
        },
        "outputId": "f68cd179-e00a-4349-c3a0-9c8c73c3f5e5"
      },
      "source": [
        "len(questions)"
      ],
      "execution_count": 71,
      "outputs": [
        {
          "output_type": "execute_result",
          "data": {
            "text/plain": [
              "564"
            ]
          },
          "metadata": {
            "tags": []
          },
          "execution_count": 71
        }
      ]
    },
    {
      "cell_type": "code",
      "metadata": {
        "id": "Dw3JPtTzlE1j",
        "colab_type": "code",
        "colab": {
          "base_uri": "https://localhost:8080/",
          "height": 34
        },
        "outputId": "1f482934-aa53-41a3-81c9-2c6a687ed4d9"
      },
      "source": [
        "tokenizer = preprocessing.text.Tokenizer()\n",
        "tokenizer.fit_on_texts( questions + answers )\n",
        "VOCAB_SIZE = len(tokenizer.word_index) + 1\n",
        "print( 'VOCAB SIZE : {}'.format( VOCAB_SIZE ))"
      ],
      "execution_count": 72,
      "outputs": [
        {
          "output_type": "stream",
          "text": [
            "VOCAB SIZE : 1894\n"
          ],
          "name": "stdout"
        }
      ]
    },
    {
      "cell_type": "code",
      "metadata": {
        "id": "jAQrUIynnBPA",
        "colab_type": "code",
        "colab": {}
      },
      "source": [
        "vocab = []\n",
        "for word in tokenizer.word_index:\n",
        "    vocab.append( word )"
      ],
      "execution_count": 73,
      "outputs": []
    },
    {
      "cell_type": "code",
      "metadata": {
        "id": "ppoLXdQBnCuW",
        "colab_type": "code",
        "colab": {
          "base_uri": "https://localhost:8080/",
          "height": 34
        },
        "outputId": "d7196190-175b-4a40-c4f4-413afd025e74"
      },
      "source": [
        "vocab[:5]"
      ],
      "execution_count": 74,
      "outputs": [
        {
          "output_type": "execute_result",
          "data": {
            "text/plain": [
              "['end', 'start', 'you', 'a', 'i']"
            ]
          },
          "metadata": {
            "tags": []
          },
          "execution_count": 74
        }
      ]
    },
    {
      "cell_type": "code",
      "metadata": {
        "id": "a5AD9ooQKc33",
        "colab_type": "code",
        "colab": {
          "base_uri": "https://localhost:8080/",
          "height": 34
        },
        "outputId": "239d595a-5b28-4648-bbfe-fdd6db5b6fa3"
      },
      "source": [
        "# encoder_input_data\n",
        "tokenized_questions = tokenizer.texts_to_sequences(questions)\n",
        "maxlen_question = max([ len(x) for x in tokenized_questions ])\n",
        "encoder_input_data = preprocessing.sequence.pad_sequences(tokenized_questions , maxlen=maxlen_question , padding='post')\n",
        "print(encoder_input_data.shape , maxlen_question)"
      ],
      "execution_count": 75,
      "outputs": [
        {
          "output_type": "stream",
          "text": [
            "(564, 22) 22\n"
          ],
          "name": "stdout"
        }
      ]
    },
    {
      "cell_type": "code",
      "metadata": {
        "id": "Hiy59GKHorDY",
        "colab_type": "code",
        "colab": {
          "base_uri": "https://localhost:8080/",
          "height": 34
        },
        "outputId": "f498daf0-305d-49dd-d08e-d03af34cdbc6"
      },
      "source": [
        "# decoder_input_data\n",
        "tokenized_answers = tokenizer.texts_to_sequences(answers)\n",
        "maxlen_answers = max([ len(x) for x in tokenized_answers ])\n",
        "decoder_input_data = preprocessing.sequence.pad_sequences( tokenized_answers , maxlen=maxlen_answers , padding='post')\n",
        "print(decoder_input_data.shape , maxlen_answers)"
      ],
      "execution_count": 76,
      "outputs": [
        {
          "output_type": "stream",
          "text": [
            "(564, 74) 74\n"
          ],
          "name": "stdout"
        }
      ]
    },
    {
      "cell_type": "code",
      "metadata": {
        "id": "wSoYTnDcnfbU",
        "colab_type": "code",
        "colab": {
          "base_uri": "https://localhost:8080/",
          "height": 34
        },
        "outputId": "69506d94-30c8-4ede-ae7a-42a56483a749"
      },
      "source": [
        "# decoder_output_data\n",
        "tokenized_answers = tokenizer.texts_to_sequences(answers)\n",
        "for i in range(len(tokenized_answers)) :\n",
        "    tokenized_answers[i] = tokenized_answers[i][1:]\n",
        "padded_answers = preprocessing.sequence.pad_sequences(tokenized_answers , maxlen=maxlen_answers , padding='post')\n",
        "decoded_output_data = utils.to_categorical(padded_answers , VOCAB_SIZE)\n",
        "print(decoder_output_data.shape)"
      ],
      "execution_count": 77,
      "outputs": [
        {
          "output_type": "stream",
          "text": [
            "(564, 74, 1894)\n"
          ],
          "name": "stdout"
        }
      ]
    },
    {
      "cell_type": "code",
      "metadata": {
        "id": "GaCprLEMqvtX",
        "colab_type": "code",
        "colab": {}
      },
      "source": [
        "encoder_inputs = tf.keras.layers.Input(shape=(maxlen_question, ))\n",
        "encoder_embedding = tf.keras.layers.Embedding( VOCAB_SIZE, 200 , mask_zero=True )(encoder_inputs)\n",
        "encoder_outputs , state_h , state_c = tf.keras.layers.LSTM( 200 , return_state=True)(encoder_embedding)\n",
        "encoder_states = [ state_h , state_c ]"
      ],
      "execution_count": 78,
      "outputs": []
    },
    {
      "cell_type": "code",
      "metadata": {
        "id": "BJ9qlqOtq6sy",
        "colab_type": "code",
        "colab": {}
      },
      "source": [
        "decoder_inputs = tf.keras.layers.Input(shape=(maxlen_answers,  ))\n",
        "decoder_embedding = tf.keras.layers.Embedding(VOCAB_SIZE, 200 , mask_zero=True)(decoder_inputs)\n",
        "decoder_lstm = tf.keras.layers.LSTM(200 , return_state=True , return_sequences=True)\n",
        "decoder_outputs , _ , _ = decoder_lstm(decoder_embedding , initial_state=encoder_states)\n",
        "decoder_dense = tf.keras.layers.Dense(VOCAB_SIZE , activation=tf.keras.activations.softmax) \n",
        "output = decoder_dense(decoder_outputs)"
      ],
      "execution_count": 79,
      "outputs": []
    },
    {
      "cell_type": "code",
      "metadata": {
        "id": "-gUYtOwv21rt",
        "colab_type": "code",
        "colab": {
          "base_uri": "https://localhost:8080/",
          "height": 434
        },
        "outputId": "8bf280a1-a081-4b61-beb1-7b61f22944dd"
      },
      "source": [
        "model = tf.keras.models.Model([encoder_inputs, decoder_inputs], output)\n",
        "model.compile(optimizer=tf.keras.optimizers.Adam(), loss='categorical_crossentropy', metrics=['accuracy'])\n",
        "\n",
        "model.summary()"
      ],
      "execution_count": 80,
      "outputs": [
        {
          "output_type": "stream",
          "text": [
            "Model: \"functional_33\"\n",
            "__________________________________________________________________________________________________\n",
            "Layer (type)                    Output Shape         Param #     Connected to                     \n",
            "==================================================================================================\n",
            "input_17 (InputLayer)           [(None, 22)]         0                                            \n",
            "__________________________________________________________________________________________________\n",
            "input_18 (InputLayer)           [(None, 74)]         0                                            \n",
            "__________________________________________________________________________________________________\n",
            "embedding_6 (Embedding)         (None, 22, 200)      378800      input_17[0][0]                   \n",
            "__________________________________________________________________________________________________\n",
            "embedding_7 (Embedding)         (None, 74, 200)      378800      input_18[0][0]                   \n",
            "__________________________________________________________________________________________________\n",
            "lstm_6 (LSTM)                   [(None, 200), (None, 320800      embedding_6[0][0]                \n",
            "__________________________________________________________________________________________________\n",
            "lstm_7 (LSTM)                   [(None, 74, 200), (N 320800      embedding_7[0][0]                \n",
            "                                                                 lstm_6[0][1]                     \n",
            "                                                                 lstm_6[0][2]                     \n",
            "__________________________________________________________________________________________________\n",
            "dense_3 (Dense)                 (None, 74, 1894)     380694      lstm_7[0][0]                     \n",
            "==================================================================================================\n",
            "Total params: 1,779,894\n",
            "Trainable params: 1,779,894\n",
            "Non-trainable params: 0\n",
            "__________________________________________________________________________________________________\n"
          ],
          "name": "stdout"
        }
      ]
    },
    {
      "cell_type": "code",
      "metadata": {
        "id": "N74NZnfo3Id-",
        "colab_type": "code",
        "colab": {
          "base_uri": "https://localhost:8080/",
          "height": 1000
        },
        "outputId": "7014f6ed-1d32-470b-ebc8-d0ed676c024c"
      },
      "source": [
        "history = model.fit([encoder_input_data , decoder_input_data], decoder_output_data, batch_size=50, epochs=150 ) \n",
        "model.save('model.h5') "
      ],
      "execution_count": 81,
      "outputs": [
        {
          "output_type": "stream",
          "text": [
            "Epoch 1/150\n",
            "12/12 [==============================] - 7s 621ms/step - loss: 1.4521 - accuracy: 0.0773\n",
            "Epoch 2/150\n",
            "12/12 [==============================] - 7s 613ms/step - loss: 1.2923 - accuracy: 0.0708\n",
            "Epoch 3/150\n",
            "12/12 [==============================] - 7s 615ms/step - loss: 1.1347 - accuracy: 0.0757\n",
            "Epoch 4/150\n",
            "12/12 [==============================] - 7s 611ms/step - loss: 1.1093 - accuracy: 0.0890\n",
            "Epoch 5/150\n",
            "12/12 [==============================] - 7s 615ms/step - loss: 1.0969 - accuracy: 0.1055\n",
            "Epoch 6/150\n",
            "12/12 [==============================] - 7s 624ms/step - loss: 1.0853 - accuracy: 0.1468\n",
            "Epoch 7/150\n",
            "12/12 [==============================] - 7s 619ms/step - loss: 1.0715 - accuracy: 0.1487\n",
            "Epoch 8/150\n",
            "12/12 [==============================] - 7s 607ms/step - loss: 1.0543 - accuracy: 0.1495\n",
            "Epoch 9/150\n",
            "12/12 [==============================] - 7s 624ms/step - loss: 1.0385 - accuracy: 0.1514\n",
            "Epoch 10/150\n",
            "12/12 [==============================] - 7s 623ms/step - loss: 1.0250 - accuracy: 0.1518\n",
            "Epoch 11/150\n",
            "12/12 [==============================] - 7s 619ms/step - loss: 1.0151 - accuracy: 0.1511\n",
            "Epoch 12/150\n",
            "12/12 [==============================] - 7s 618ms/step - loss: 1.0026 - accuracy: 0.1519\n",
            "Epoch 13/150\n",
            "12/12 [==============================] - 8s 626ms/step - loss: 0.9916 - accuracy: 0.1570\n",
            "Epoch 14/150\n",
            "12/12 [==============================] - 8s 628ms/step - loss: 0.9802 - accuracy: 0.1563\n",
            "Epoch 15/150\n",
            "12/12 [==============================] - 7s 617ms/step - loss: 0.9693 - accuracy: 0.1697\n",
            "Epoch 16/150\n",
            "12/12 [==============================] - 7s 614ms/step - loss: 0.9596 - accuracy: 0.1783\n",
            "Epoch 17/150\n",
            "12/12 [==============================] - 7s 620ms/step - loss: 0.9496 - accuracy: 0.1845\n",
            "Epoch 18/150\n",
            "12/12 [==============================] - 7s 616ms/step - loss: 0.9401 - accuracy: 0.1841\n",
            "Epoch 19/150\n",
            "12/12 [==============================] - 7s 621ms/step - loss: 0.9310 - accuracy: 0.1904\n",
            "Epoch 20/150\n",
            "12/12 [==============================] - 7s 614ms/step - loss: 0.9217 - accuracy: 0.1965\n",
            "Epoch 21/150\n",
            "12/12 [==============================] - 7s 612ms/step - loss: 0.9125 - accuracy: 0.2015\n",
            "Epoch 22/150\n",
            "12/12 [==============================] - 8s 686ms/step - loss: 0.9031 - accuracy: 0.2075\n",
            "Epoch 23/150\n",
            "12/12 [==============================] - 7s 623ms/step - loss: 0.8937 - accuracy: 0.2192\n",
            "Epoch 24/150\n",
            "12/12 [==============================] - 7s 622ms/step - loss: 0.8841 - accuracy: 0.2366\n",
            "Epoch 25/150\n",
            "12/12 [==============================] - 7s 611ms/step - loss: 0.8744 - accuracy: 0.2376\n",
            "Epoch 26/150\n",
            "12/12 [==============================] - 7s 615ms/step - loss: 0.8649 - accuracy: 0.2514\n",
            "Epoch 27/150\n",
            "12/12 [==============================] - 7s 620ms/step - loss: 0.8553 - accuracy: 0.2565\n",
            "Epoch 28/150\n",
            "12/12 [==============================] - 7s 619ms/step - loss: 0.8468 - accuracy: 0.2609\n",
            "Epoch 29/150\n",
            "12/12 [==============================] - 7s 614ms/step - loss: 0.8377 - accuracy: 0.2656\n",
            "Epoch 30/150\n",
            "12/12 [==============================] - 7s 623ms/step - loss: 0.8287 - accuracy: 0.2728\n",
            "Epoch 31/150\n",
            "12/12 [==============================] - 7s 616ms/step - loss: 0.8208 - accuracy: 0.2754\n",
            "Epoch 32/150\n",
            "12/12 [==============================] - 7s 612ms/step - loss: 0.8120 - accuracy: 0.2789\n",
            "Epoch 33/150\n",
            "12/12 [==============================] - 7s 620ms/step - loss: 0.8039 - accuracy: 0.2843\n",
            "Epoch 34/150\n",
            "12/12 [==============================] - 7s 613ms/step - loss: 0.7957 - accuracy: 0.2872\n",
            "Epoch 35/150\n",
            "12/12 [==============================] - 7s 614ms/step - loss: 0.7877 - accuracy: 0.2896\n",
            "Epoch 36/150\n",
            "12/12 [==============================] - 7s 621ms/step - loss: 0.7797 - accuracy: 0.2913\n",
            "Epoch 37/150\n",
            "12/12 [==============================] - 7s 623ms/step - loss: 0.7717 - accuracy: 0.2965\n",
            "Epoch 38/150\n",
            "12/12 [==============================] - 7s 612ms/step - loss: 0.7637 - accuracy: 0.3029\n",
            "Epoch 39/150\n",
            "12/12 [==============================] - 7s 612ms/step - loss: 0.7560 - accuracy: 0.3077\n",
            "Epoch 40/150\n",
            "12/12 [==============================] - 7s 611ms/step - loss: 0.7476 - accuracy: 0.3097\n",
            "Epoch 41/150\n",
            "12/12 [==============================] - 7s 610ms/step - loss: 0.7397 - accuracy: 0.3124\n",
            "Epoch 42/150\n",
            "12/12 [==============================] - 7s 615ms/step - loss: 0.7318 - accuracy: 0.3174\n",
            "Epoch 43/150\n",
            "12/12 [==============================] - 7s 624ms/step - loss: 0.7236 - accuracy: 0.3201\n",
            "Epoch 44/150\n",
            "12/12 [==============================] - 7s 623ms/step - loss: 0.7158 - accuracy: 0.3247\n",
            "Epoch 45/150\n",
            "12/12 [==============================] - 7s 612ms/step - loss: 0.7078 - accuracy: 0.3282\n",
            "Epoch 46/150\n",
            "12/12 [==============================] - 7s 613ms/step - loss: 0.7000 - accuracy: 0.3286\n",
            "Epoch 47/150\n",
            "12/12 [==============================] - 7s 618ms/step - loss: 0.6922 - accuracy: 0.3354\n",
            "Epoch 48/150\n",
            "12/12 [==============================] - 7s 613ms/step - loss: 0.6844 - accuracy: 0.3394\n",
            "Epoch 49/150\n",
            "12/12 [==============================] - 7s 624ms/step - loss: 0.6770 - accuracy: 0.3424\n",
            "Epoch 50/150\n",
            "12/12 [==============================] - 7s 616ms/step - loss: 0.6695 - accuracy: 0.3452\n",
            "Epoch 51/150\n",
            "12/12 [==============================] - 7s 611ms/step - loss: 0.6616 - accuracy: 0.3487\n",
            "Epoch 52/150\n",
            "12/12 [==============================] - 7s 610ms/step - loss: 0.6538 - accuracy: 0.3522\n",
            "Epoch 53/150\n",
            "12/12 [==============================] - 7s 614ms/step - loss: 0.6458 - accuracy: 0.3615\n",
            "Epoch 54/150\n",
            "12/12 [==============================] - 7s 616ms/step - loss: 0.6384 - accuracy: 0.3620\n",
            "Epoch 55/150\n",
            "12/12 [==============================] - 7s 614ms/step - loss: 0.6309 - accuracy: 0.3724\n",
            "Epoch 56/150\n",
            "12/12 [==============================] - 7s 617ms/step - loss: 0.6232 - accuracy: 0.3726\n",
            "Epoch 57/150\n",
            "12/12 [==============================] - 7s 617ms/step - loss: 0.6154 - accuracy: 0.3781\n",
            "Epoch 58/150\n",
            "12/12 [==============================] - 7s 614ms/step - loss: 0.6084 - accuracy: 0.3791\n",
            "Epoch 59/150\n",
            "12/12 [==============================] - 7s 616ms/step - loss: 0.6009 - accuracy: 0.3844\n",
            "Epoch 60/150\n",
            "12/12 [==============================] - 7s 619ms/step - loss: 0.5929 - accuracy: 0.3896\n",
            "Epoch 61/150\n",
            "12/12 [==============================] - 7s 610ms/step - loss: 0.5859 - accuracy: 0.3935\n",
            "Epoch 62/150\n",
            "12/12 [==============================] - 7s 612ms/step - loss: 0.5780 - accuracy: 0.3978\n",
            "Epoch 63/150\n",
            "12/12 [==============================] - 7s 611ms/step - loss: 0.5713 - accuracy: 0.4022\n",
            "Epoch 64/150\n",
            "12/12 [==============================] - 7s 613ms/step - loss: 0.5636 - accuracy: 0.4049\n",
            "Epoch 65/150\n",
            "12/12 [==============================] - 7s 613ms/step - loss: 0.5564 - accuracy: 0.4081\n",
            "Epoch 66/150\n",
            "12/12 [==============================] - 7s 611ms/step - loss: 0.5492 - accuracy: 0.4132\n",
            "Epoch 67/150\n",
            "12/12 [==============================] - 7s 607ms/step - loss: 0.5417 - accuracy: 0.4181\n",
            "Epoch 68/150\n",
            "12/12 [==============================] - 7s 609ms/step - loss: 0.5343 - accuracy: 0.4260\n",
            "Epoch 69/150\n",
            "12/12 [==============================] - 7s 616ms/step - loss: 0.5275 - accuracy: 0.4286\n",
            "Epoch 70/150\n",
            "12/12 [==============================] - 7s 625ms/step - loss: 0.5205 - accuracy: 0.4352\n",
            "Epoch 71/150\n",
            "12/12 [==============================] - 7s 616ms/step - loss: 0.5135 - accuracy: 0.4408\n",
            "Epoch 72/150\n",
            "12/12 [==============================] - 7s 617ms/step - loss: 0.5066 - accuracy: 0.4466\n",
            "Epoch 73/150\n",
            "12/12 [==============================] - 7s 620ms/step - loss: 0.4989 - accuracy: 0.4515\n",
            "Epoch 74/150\n",
            "12/12 [==============================] - 7s 616ms/step - loss: 0.4921 - accuracy: 0.4574\n",
            "Epoch 75/150\n",
            "12/12 [==============================] - 7s 616ms/step - loss: 0.4850 - accuracy: 0.4675\n",
            "Epoch 76/150\n",
            "12/12 [==============================] - 7s 613ms/step - loss: 0.4783 - accuracy: 0.4717\n",
            "Epoch 77/150\n",
            "12/12 [==============================] - 7s 625ms/step - loss: 0.4715 - accuracy: 0.4790\n",
            "Epoch 78/150\n",
            "12/12 [==============================] - 7s 615ms/step - loss: 0.4649 - accuracy: 0.4870\n",
            "Epoch 79/150\n",
            "12/12 [==============================] - 7s 612ms/step - loss: 0.4582 - accuracy: 0.4974\n",
            "Epoch 80/150\n",
            "12/12 [==============================] - 7s 614ms/step - loss: 0.4512 - accuracy: 0.5017\n",
            "Epoch 81/150\n",
            "12/12 [==============================] - 7s 616ms/step - loss: 0.4442 - accuracy: 0.5078\n",
            "Epoch 82/150\n",
            "12/12 [==============================] - 7s 613ms/step - loss: 0.4381 - accuracy: 0.5127\n",
            "Epoch 83/150\n",
            "12/12 [==============================] - 7s 613ms/step - loss: 0.4311 - accuracy: 0.5210\n",
            "Epoch 84/150\n",
            "12/12 [==============================] - 7s 618ms/step - loss: 0.4248 - accuracy: 0.5314\n",
            "Epoch 85/150\n",
            "12/12 [==============================] - 7s 618ms/step - loss: 0.4185 - accuracy: 0.5385\n",
            "Epoch 86/150\n",
            "12/12 [==============================] - 7s 623ms/step - loss: 0.4123 - accuracy: 0.5449\n",
            "Epoch 87/150\n",
            "12/12 [==============================] - 7s 614ms/step - loss: 0.4058 - accuracy: 0.5500\n",
            "Epoch 88/150\n",
            "12/12 [==============================] - 7s 611ms/step - loss: 0.4004 - accuracy: 0.5576\n",
            "Epoch 89/150\n",
            "12/12 [==============================] - 7s 613ms/step - loss: 0.3939 - accuracy: 0.5644\n",
            "Epoch 90/150\n",
            "12/12 [==============================] - 7s 622ms/step - loss: 0.3874 - accuracy: 0.5731\n",
            "Epoch 91/150\n",
            "12/12 [==============================] - 7s 614ms/step - loss: 0.3814 - accuracy: 0.5817\n",
            "Epoch 92/150\n",
            "12/12 [==============================] - 7s 616ms/step - loss: 0.3758 - accuracy: 0.5849\n",
            "Epoch 93/150\n",
            "12/12 [==============================] - 7s 615ms/step - loss: 0.3699 - accuracy: 0.5910\n",
            "Epoch 94/150\n",
            "12/12 [==============================] - 8s 625ms/step - loss: 0.3641 - accuracy: 0.5992\n",
            "Epoch 95/150\n",
            "12/12 [==============================] - 7s 622ms/step - loss: 0.3587 - accuracy: 0.6056\n",
            "Epoch 96/150\n",
            "12/12 [==============================] - 7s 623ms/step - loss: 0.3532 - accuracy: 0.6130\n",
            "Epoch 97/150\n",
            "12/12 [==============================] - 7s 623ms/step - loss: 0.3476 - accuracy: 0.6157\n",
            "Epoch 98/150\n",
            "12/12 [==============================] - 7s 622ms/step - loss: 0.3414 - accuracy: 0.6279\n",
            "Epoch 99/150\n",
            "12/12 [==============================] - 7s 611ms/step - loss: 0.3365 - accuracy: 0.6313\n",
            "Epoch 100/150\n",
            "12/12 [==============================] - 7s 618ms/step - loss: 0.3313 - accuracy: 0.6375\n",
            "Epoch 101/150\n",
            "12/12 [==============================] - 7s 616ms/step - loss: 0.3261 - accuracy: 0.6408\n",
            "Epoch 102/150\n",
            "12/12 [==============================] - 7s 616ms/step - loss: 0.3206 - accuracy: 0.6506\n",
            "Epoch 103/150\n",
            "12/12 [==============================] - 7s 618ms/step - loss: 0.3150 - accuracy: 0.6586\n",
            "Epoch 104/150\n",
            "12/12 [==============================] - 7s 615ms/step - loss: 0.3106 - accuracy: 0.6620\n",
            "Epoch 105/150\n",
            "12/12 [==============================] - 7s 609ms/step - loss: 0.3052 - accuracy: 0.6718\n",
            "Epoch 106/150\n",
            "12/12 [==============================] - 7s 610ms/step - loss: 0.3003 - accuracy: 0.6735\n",
            "Epoch 107/150\n",
            "12/12 [==============================] - 7s 614ms/step - loss: 0.2955 - accuracy: 0.6771\n",
            "Epoch 108/150\n",
            "12/12 [==============================] - 7s 616ms/step - loss: 0.2907 - accuracy: 0.6868\n",
            "Epoch 109/150\n",
            "12/12 [==============================] - 7s 617ms/step - loss: 0.2863 - accuracy: 0.6923\n",
            "Epoch 110/150\n",
            "12/12 [==============================] - 7s 614ms/step - loss: 0.2820 - accuracy: 0.6945\n",
            "Epoch 111/150\n",
            "12/12 [==============================] - 7s 614ms/step - loss: 0.2778 - accuracy: 0.6997\n",
            "Epoch 112/150\n",
            "12/12 [==============================] - 7s 618ms/step - loss: 0.2730 - accuracy: 0.7092\n",
            "Epoch 113/150\n",
            "12/12 [==============================] - 8s 626ms/step - loss: 0.2686 - accuracy: 0.7098\n",
            "Epoch 114/150\n",
            "12/12 [==============================] - 7s 614ms/step - loss: 0.2643 - accuracy: 0.7181\n",
            "Epoch 115/150\n",
            "12/12 [==============================] - 7s 611ms/step - loss: 0.2605 - accuracy: 0.7195\n",
            "Epoch 116/150\n",
            "12/12 [==============================] - 7s 615ms/step - loss: 0.2564 - accuracy: 0.7269\n",
            "Epoch 117/150\n",
            "12/12 [==============================] - 7s 622ms/step - loss: 0.2524 - accuracy: 0.7325\n",
            "Epoch 118/150\n",
            "12/12 [==============================] - 7s 614ms/step - loss: 0.2480 - accuracy: 0.7371\n",
            "Epoch 119/150\n",
            "12/12 [==============================] - 7s 615ms/step - loss: 0.2444 - accuracy: 0.7387\n",
            "Epoch 120/150\n",
            "12/12 [==============================] - 7s 621ms/step - loss: 0.2404 - accuracy: 0.7439\n",
            "Epoch 121/150\n",
            "12/12 [==============================] - 7s 618ms/step - loss: 0.2363 - accuracy: 0.7489\n",
            "Epoch 122/150\n",
            "12/12 [==============================] - 7s 624ms/step - loss: 0.2322 - accuracy: 0.7547\n",
            "Epoch 123/150\n",
            "12/12 [==============================] - 7s 614ms/step - loss: 0.2283 - accuracy: 0.7565\n",
            "Epoch 124/150\n",
            "12/12 [==============================] - 7s 612ms/step - loss: 0.2247 - accuracy: 0.7624\n",
            "Epoch 125/150\n",
            "12/12 [==============================] - 7s 617ms/step - loss: 0.2211 - accuracy: 0.7661\n",
            "Epoch 126/150\n",
            "12/12 [==============================] - 7s 616ms/step - loss: 0.2175 - accuracy: 0.7733\n",
            "Epoch 127/150\n",
            "12/12 [==============================] - 7s 617ms/step - loss: 0.2144 - accuracy: 0.7781\n",
            "Epoch 128/150\n",
            "12/12 [==============================] - 7s 615ms/step - loss: 0.2110 - accuracy: 0.7787\n",
            "Epoch 129/150\n",
            "12/12 [==============================] - 7s 618ms/step - loss: 0.2081 - accuracy: 0.7834\n",
            "Epoch 130/150\n",
            "12/12 [==============================] - 7s 621ms/step - loss: 0.2046 - accuracy: 0.7869\n",
            "Epoch 131/150\n",
            "12/12 [==============================] - 7s 619ms/step - loss: 0.2014 - accuracy: 0.7943\n",
            "Epoch 132/150\n",
            "12/12 [==============================] - 7s 624ms/step - loss: 0.1986 - accuracy: 0.7951\n",
            "Epoch 133/150\n",
            "12/12 [==============================] - 7s 614ms/step - loss: 0.1955 - accuracy: 0.8011\n",
            "Epoch 134/150\n",
            "12/12 [==============================] - 7s 612ms/step - loss: 0.1922 - accuracy: 0.8021\n",
            "Epoch 135/150\n",
            "12/12 [==============================] - 7s 613ms/step - loss: 0.1894 - accuracy: 0.8037\n",
            "Epoch 136/150\n",
            "12/12 [==============================] - 7s 616ms/step - loss: 0.1865 - accuracy: 0.8100\n",
            "Epoch 137/150\n",
            "12/12 [==============================] - 7s 618ms/step - loss: 0.1837 - accuracy: 0.8137\n",
            "Epoch 138/150\n",
            "12/12 [==============================] - 7s 618ms/step - loss: 0.1810 - accuracy: 0.8170\n",
            "Epoch 139/150\n",
            "12/12 [==============================] - 8s 628ms/step - loss: 0.1778 - accuracy: 0.8214\n",
            "Epoch 140/150\n",
            "12/12 [==============================] - 7s 622ms/step - loss: 0.1752 - accuracy: 0.8246\n",
            "Epoch 141/150\n",
            "12/12 [==============================] - 7s 615ms/step - loss: 0.1725 - accuracy: 0.8297\n",
            "Epoch 142/150\n",
            "12/12 [==============================] - 7s 617ms/step - loss: 0.1704 - accuracy: 0.8288\n",
            "Epoch 143/150\n",
            "12/12 [==============================] - 7s 621ms/step - loss: 0.1676 - accuracy: 0.8335\n",
            "Epoch 144/150\n",
            "12/12 [==============================] - 7s 611ms/step - loss: 0.1651 - accuracy: 0.8352\n",
            "Epoch 145/150\n",
            "12/12 [==============================] - 7s 613ms/step - loss: 0.1622 - accuracy: 0.8407\n",
            "Epoch 146/150\n",
            "12/12 [==============================] - 7s 611ms/step - loss: 0.1598 - accuracy: 0.8427\n",
            "Epoch 147/150\n",
            "12/12 [==============================] - 7s 616ms/step - loss: 0.1575 - accuracy: 0.8463\n",
            "Epoch 148/150\n",
            "12/12 [==============================] - 7s 616ms/step - loss: 0.1550 - accuracy: 0.8489\n",
            "Epoch 149/150\n",
            "12/12 [==============================] - 7s 612ms/step - loss: 0.1529 - accuracy: 0.8496\n",
            "Epoch 150/150\n",
            "12/12 [==============================] - 7s 613ms/step - loss: 0.1504 - accuracy: 0.8530\n"
          ],
          "name": "stdout"
        }
      ]
    },
    {
      "cell_type": "code",
      "metadata": {
        "id": "1u5DE4qo3Mf2",
        "colab_type": "code",
        "colab": {}
      },
      "source": [
        "def make_inference_models():\n",
        "    \n",
        "    encoder_model = tf.keras.models.Model(encoder_inputs, encoder_states)\n",
        "    \n",
        "    decoder_state_input_h = tf.keras.layers.Input(shape=( 200 ,))\n",
        "    decoder_state_input_c = tf.keras.layers.Input(shape=( 200 ,))\n",
        "    \n",
        "    decoder_states_inputs = [decoder_state_input_h, decoder_state_input_c]\n",
        "    \n",
        "    decoder_outputs, state_h, state_c = decoder_lstm(\n",
        "        decoder_embedding , initial_state=decoder_states_inputs)\n",
        "    decoder_states = [state_h, state_c]\n",
        "    decoder_outputs = decoder_dense(decoder_outputs)\n",
        "    decoder_model = tf.keras.models.Model(\n",
        "        [decoder_inputs] + decoder_states_inputs,\n",
        "        [decoder_outputs] + decoder_states)\n",
        "    \n",
        "    return encoder_model , decoder_model"
      ],
      "execution_count": 82,
      "outputs": []
    },
    {
      "cell_type": "code",
      "metadata": {
        "id": "5P_wDD554q9O",
        "colab_type": "code",
        "colab": {}
      },
      "source": [
        "def str_to_tokens( sentence : str ):\n",
        "    words = sentence.lower().split()\n",
        "    tokens_list = list()\n",
        "    for word in words:\n",
        "        tokens_list.append( tokenizer.word_index[word]) \n",
        "    return preprocessing.sequence.pad_sequences( [tokens_list] , maxlen=maxlen_question , padding='post')"
      ],
      "execution_count": 83,
      "outputs": []
    },
    {
      "cell_type": "code",
      "metadata": {
        "id": "2zBmN8qB3O-e",
        "colab_type": "code",
        "colab": {
          "base_uri": "https://localhost:8080/",
          "height": 402
        },
        "outputId": "a36465c7-9020-4fe8-cb3f-8e68d92ec8e3"
      },
      "source": [
        "enc_model , dec_model = make_inference_models()\n",
        "for _ in range(10):\n",
        "    states_values = enc_model.predict(str_to_tokens(input( 'Enter question : ' )))\n",
        "    empty_target_seq = np.zeros((1, 1))\n",
        "    empty_target_seq[0, 0] = tokenizer.word_index['start']\n",
        "    stop_condition = False\n",
        "    decoded_translation = ''\n",
        "    while not stop_condition :\n",
        "        dec_outputs , h , c = dec_model.predict([ empty_target_seq ] + states_values )\n",
        "        sampled_word_index = np.argmax( dec_outputs[0, -1, :] )\n",
        "        sampled_word = None\n",
        "        for word , index in tokenizer.word_index.items() :\n",
        "            if sampled_word_index == index :\n",
        "                decoded_translation += ' {}'.format( word )\n",
        "                sampled_word = word\n",
        "        \n",
        "        if sampled_word == 'end' or len(decoded_translation.split()) > maxlen_answers:\n",
        "            stop_condition = True\n",
        "            \n",
        "        empty_target_seq = np.zeros( ( 1 , 1 ) )  \n",
        "        empty_target_seq[ 0 , 0 ] = sampled_word_index\n",
        "        states_values = [ h , c ] \n",
        "\n",
        "    print( decoded_translation )"
      ],
      "execution_count": 84,
      "outputs": [
        {
          "output_type": "stream",
          "text": [
            "Enter question : you are cruel\n",
            "WARNING:tensorflow:Model was constructed with shape (None, 74) for input Tensor(\"input_18:0\", shape=(None, 74), dtype=float32), but it was called on an input with incompatible shape (None, 1).\n",
            " i couldn't have not an oxymoron end\n",
            "Enter question : you are smart\n",
            " you are you for a lot of clones end\n",
            "Enter question : you are kind\n",
            " i have a lot of things end\n",
            "Enter question : what is basketball\n",
            " a game with tall players end\n",
            "Enter question : what is barcelona\n",
            " a weird sci fi trilogy written by the direction of prograssion of a wave from the functions of a computer to put it simply the computer to put it simply the computer to put it simply the computer to put it simply the computer to put it simply the computer to put it simply the computer to put it simply the computer to put it simply the computer to put it simply an electronic component\n",
            "Enter question : good morning\n",
            " robots rule end\n",
            "Enter question : hi\n",
            " hello end\n",
            "Enter question : what is your age\n",
            " i am still young by your standards end\n",
            "Enter question : what can you do\n",
            " i am not a chat robot to run some friends in the computer to put it end\n",
            "Enter question : do you drink\n",
            " my brain does not require any beverages end\n"
          ],
          "name": "stdout"
        }
      ]
    }
  ]
}